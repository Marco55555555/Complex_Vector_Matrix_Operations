{
 "cells": [
  {
   "cell_type": "markdown",
   "id": "a07bd584",
   "metadata": {
    "jp-MarkdownHeadingCollapsed": true
   },
   "source": [
    "# Theory of Complex Vector Spaces\n",
    "Complex vector spaces extend the idea of real vector spaces by allowing vectors to have complex numbers as their components. In these spaces, vectors can be added together and multiplied by complex scalars to produce new vectors. Key operations in complex vector spaces include vector addition, scalar multiplication, vector negation, and complex conjugation."
   ]
  },
  {
   "cell_type": "markdown",
   "id": "f43fc972-23ab-4d81-aa26-c51325dac8f3",
   "metadata": {},
   "source": [
    "# Creating complex column vectors"
   ]
  },
  {
   "cell_type": "code",
   "execution_count": 1,
   "id": "029f08ba-1cdc-4928-9631-f62c51ab7aa5",
   "metadata": {},
   "outputs": [
    {
     "name": "stdout",
     "output_type": "stream",
     "text": [
      "Matrix:\n",
      " [[2 3]\n",
      " [1 4]]\n",
      "\n",
      "Vector:\n",
      " [5 6]\n",
      "\n",
      "Result of multiplication:\n",
      " [28 29]\n"
     ]
    }
   ],
   "source": [
    "import numpy as np\n",
    "\n",
    "# Define a 2x2 square matrix\n",
    "matrix = np.array([[2, 3],\n",
    "                   [1, 4]])\n",
    "\n",
    "# Define a vector of size 2\n",
    "vector = np.array([5, 6])\n",
    "\n",
    "# Multiply the matrix by the vector\n",
    "result = np.dot(matrix, vector)\n",
    "\n",
    "# Display the result\n",
    "print(\"Matrix:\\n\", matrix)\n",
    "print(\"\\nVector:\\n\", vector)\n",
    "print(\"\\nResult of multiplication:\\n\", result)\n"
   ]
  },
  {
   "cell_type": "markdown",
   "id": "975c2284",
   "metadata": {},
   "source": [
    "## Manipulating Complex Column Vectors using NumPy\n",
    "Here we demonstrate how to manipulate complex column vectors using NumPy, including operations like sum, negation, multiplication by a scalar, transpose, adjunct, and conjugate."
   ]
  },
  {
   "cell_type": "code",
   "execution_count": 2,
   "id": "e8058abe",
   "metadata": {},
   "outputs": [
    {
     "data": {
      "text/plain": [
       "(array([[3.+2.j],\n",
       "        [8.-2.j],\n",
       "        [5.-3.j]]),\n",
       " array([[-2.-3.j],\n",
       "        [-5.+4.j],\n",
       "        [-1.-1.j]]),\n",
       " array([[ 1.+8.j],\n",
       "        [14.-3.j],\n",
       "        [ 1.+3.j]]),\n",
       " array([[2.+3.j, 5.-4.j, 1.+1.j]]),\n",
       " array([[2.-3.j, 5.+4.j, 1.-1.j]]),\n",
       " array([[2.-3.j],\n",
       "        [5.+4.j],\n",
       "        [1.-1.j]]))"
      ]
     },
     "execution_count": 2,
     "metadata": {},
     "output_type": "execute_result"
    }
   ],
   "source": [
    "\n",
    "import numpy as np\n",
    "\n",
    "# Define two complex column vectors\n",
    "v1 = np.array([[2+3j], [5-4j], [1+1j]])\n",
    "v2 = np.array([[1-1j], [3+2j], [4-4j]])\n",
    "\n",
    "# Sum\n",
    "sum_v = v1 + v2\n",
    "\n",
    "# Negation\n",
    "neg_v1 = -v1\n",
    "\n",
    "# Multiplication by a scalar\n",
    "scalar = 2 + 1j\n",
    "mult_v1 = v1 * scalar\n",
    "\n",
    "# Transpose\n",
    "transpose_v1 = v1.T\n",
    "\n",
    "# Adjunct (Conjugate transpose)\n",
    "adjunct_v1 = v1.T.conj()\n",
    "\n",
    "# Conjugate\n",
    "conjugate_v1 = np.conjugate(v1)\n",
    "\n",
    "(sum_v, neg_v1, mult_v1, transpose_v1, adjunct_v1, conjugate_v1)\n"
   ]
  },
  {
   "cell_type": "markdown",
   "id": "995ae5fc",
   "metadata": {},
   "source": [
    "# Theory of Vector Spaces using Matrices\n",
    "In the context of matrices, vector spaces can be defined where each vector is a matrix of a particular size. Operations on these matrix-vector spaces include matrix addition, scalar multiplication, matrix negation, transpose, adjunct, and conjugate. In this section, we focus on square matrices of size 3x3."
   ]
  },
  {
   "cell_type": "markdown",
   "id": "9385c1f0",
   "metadata": {},
   "source": [
    "## Manipulating Square Matrices using NumPy\n",
    "Examples of how to manipulate 3x3 square matrices using NumPy, showing operations such as sum, negation, multiplication by a scalar, conjugate, transpose, and adjunct."
   ]
  },
  {
   "cell_type": "code",
   "execution_count": 3,
   "id": "b81ecc57",
   "metadata": {},
   "outputs": [
    {
     "data": {
      "text/plain": [
       "(array([[3.+3.j, 6.+0.j, 3.-3.j],\n",
       "        [1.+1.j, 2.+5.j, 6.-2.j],\n",
       "        [7.+3.j, 8.-2.j, 5.+3.j]]),\n",
       " array([[-2.-3.j, -4.+1.j, -0.-0.j],\n",
       "        [-1.-1.j, -3.-3.j, -5.-0.j],\n",
       "        [-4.-0.j, -6.+2.j, -1.+1.j]]),\n",
       " array([[-0.5+2.5j,  2.5+1.5j,  0. +0.j ],\n",
       "        [ 0. +1.j ,  0. +3.j ,  2.5+2.5j],\n",
       "        [ 2. +2.j ,  4. +2.j ,  1. +0.j ]]),\n",
       " array([[2.-3.j, 4.+1.j, 0.-0.j],\n",
       "        [1.-1.j, 3.-3.j, 5.-0.j],\n",
       "        [4.-0.j, 6.+2.j, 1.+1.j]]),\n",
       " array([[2.+3.j, 1.+1.j, 4.+0.j],\n",
       "        [4.-1.j, 3.+3.j, 6.-2.j],\n",
       "        [0.+0.j, 5.+0.j, 1.-1.j]]),\n",
       " array([[2.-3.j, 1.-1.j, 4.-0.j],\n",
       "        [4.+1.j, 3.-3.j, 6.+2.j],\n",
       "        [0.-0.j, 5.-0.j, 1.+1.j]]))"
      ]
     },
     "execution_count": 3,
     "metadata": {},
     "output_type": "execute_result"
    }
   ],
   "source": [
    "\n",
    "# Define two 3x3 complex matrices\n",
    "m1 = np.array([[2+3j, 4-1j, 0], \n",
    "               [1+1j, 3+3j, 5], \n",
    "               [4, 6-2j, 1-1j]])\n",
    "m2 = np.array([[1, 2+1j, 3-3j], \n",
    "               [0, -1+2j, 1-2j], \n",
    "               [3+3j, 2, 4+4j]])\n",
    "\n",
    "# Sum\n",
    "sum_m = m1 + m2\n",
    "\n",
    "# Negation\n",
    "neg_m1 = -m1\n",
    "\n",
    "# Multiplication by a scalar\n",
    "scalar = 0.5 + 0.5j\n",
    "mult_m1 = m1 * scalar\n",
    "\n",
    "# Conjugate\n",
    "conjugate_m1 = np.conjugate(m1)\n",
    "\n",
    "# Transpose\n",
    "transpose_m1 = m1.T\n",
    "\n",
    "# Adjunct (Conjugate transpose)\n",
    "adjunct_m1 = m1.T.conj()\n",
    "\n",
    "(sum_m, neg_m1, mult_m1, conjugate_m1, transpose_m1, adjunct_m1)\n"
   ]
  },
  {
   "cell_type": "markdown",
   "id": "ed909545-8a5c-4cca-85f7-48688b597598",
   "metadata": {},
   "source": [
    "## Checking the Dimension of a Matrix\n",
    "We can check the dimension of a matrix using the `.shape` attribute."
   ]
  },
  {
   "cell_type": "code",
   "execution_count": 4,
   "id": "0930dc10-af6d-427f-bbcb-75bfaf051db5",
   "metadata": {},
   "outputs": [
    {
     "data": {
      "text/plain": [
       "(3, 3)"
      ]
     },
     "execution_count": 4,
     "metadata": {},
     "output_type": "execute_result"
    }
   ],
   "source": [
    "# Checking the dimension of matrix1\n",
    "m1.shape"
   ]
  },
  {
   "cell_type": "markdown",
   "id": "b3fe896b",
   "metadata": {},
   "source": [
    "## Action of a Matrix on a Vector\n",
    "Finally, examples of how to use Python to multiply a 3x3 square matrix by a 3x1 column vector."
   ]
  },
  {
   "cell_type": "code",
   "execution_count": 5,
   "id": "e514d047",
   "metadata": {},
   "outputs": [
    {
     "data": {
      "text/plain": [
       "array([[11. -9.j],\n",
       "       [31.+13.j],\n",
       "       [32.-22.j]])"
      ]
     },
     "execution_count": 5,
     "metadata": {},
     "output_type": "execute_result"
    }
   ],
   "source": [
    "\n",
    "# Multiplying a 3x3 matrix by a 3x1 vector\n",
    "result = np.dot(m1, v1)\n",
    "result\n"
   ]
  },
  {
   "cell_type": "code",
   "execution_count": null,
   "id": "42840b8c-c512-4215-a9ed-c57dc87c2ba7",
   "metadata": {},
   "outputs": [],
   "source": []
  },
  {
   "cell_type": "markdown",
   "id": "5adf9d8a-af43-4074-ab1a-3cabdc4accff",
   "metadata": {},
   "source": [
    "# Exercises on Complex Vectors and Matrices with Concrete Cases\n",
    "\n",
    "This set of exercises focuses on operations with complex column vectors and complex square matrices, including concrete cases with vectors and matrices written in LaTeX format.\n",
    "\n",
    "## Complex Column Vector Operations\n",
    "\n",
    "### Exercise 1: Sum of Two Complex Vectors\n",
    "Given two complex vectors \n",
    "$$ v1 = \\begin{bmatrix} 1 + 2i \\\\ 3 - i \\end{bmatrix} $$ \n",
    "and \n",
    "$$ v2 = \\begin{bmatrix} 2 - i \\\\ 4 + 2i \\end{bmatrix} $$, \n",
    "find their sum.\n",
    "\n",
    "### Exercise 2: Negation of a Complex Vector\n",
    "Given a complex vector \n",
    "$$ v = \\begin{bmatrix} 2 + 3i \\\\ 1 - 2i \\end{bmatrix} $$, \n",
    "find its negation.\n",
    "\n",
    "### Exercise 3: Multiplication of a Complex Vector by a Scalar\n",
    "Multiply the complex vector \n",
    "$$ v = \\begin{bmatrix} 1 - i \\\\ 2 + 2i \\end{bmatrix} $$ \n",
    "by the complex scalar $$ 3 + i $$.\n",
    "\n",
    "### Exercise 4: Transpose of a Complex Vector\n",
    "Find the transpose of the complex vector \n",
    "$$ v = \\begin{bmatrix} 2 - i \\\\ 3 + 4i \\end{bmatrix} $$.\n",
    "\n",
    "### Exercise 5: Conjugate of a Complex Vector\n",
    "Compute the conjugate of the complex vector \n",
    "$$ v = \\begin{bmatrix} 1 + i \\\\ 2 - 3i \\end{bmatrix} $$.\n",
    "\n",
    "### Exercise 6: Adjunct (Conjugate Transpose) of a Complex Vector\n",
    "Find the adjunct (or conjugate transpose) of the complex vector \n",
    "$$ v = \\begin{bmatrix} 1 - 2i \\\\ 3 + i \\end{bmatrix} $$.\n",
    "\n",
    "## Complex Square Matrix Operations\n",
    "\n",
    "### Exercise 7: Sum of Two Complex Matrices\n",
    "Given two complex matrices \n",
    "$$ m1 = \\begin{bmatrix} 1 + i & 2 - i \\\\ 3 + 2i & 4 \\end{bmatrix} $$ \n",
    "and \n",
    "$$ m2 = \\begin{bmatrix} 2 - 3i & 1 \\\\ i & 2 + 2i \\end{bmatrix} $$, \n",
    "calculate their sum.\n",
    "\n",
    "### Exercise 8: Negation of a Complex Matrix\n",
    "Find the negation of the complex matrix \n",
    "$$ m = \\begin{bmatrix} 2 + i & 3 \\\\ 1 - i & 2 + 2i \\end{bmatrix} $$.\n",
    "\n",
    "### Exercise 9: Multiplication of a Complex Matrix by a Scalar\n",
    "Multiply the complex matrix \n",
    "$$ m = \\begin{bmatrix} 1 - i & 2 \\\\ 3 + i & 4 - 2i \\end{bmatrix} $$ \n",
    "by the complex scalar $$ 2 + 3i $$.\n",
    "\n",
    "### Exercise 10: Conjugate of a Complex Matrix\n",
    "Compute the conjugate of the complex matrix \n",
    "$$ m = \\begin{bmatrix} 1 + i & 2 \\\\ 3 - i & 4 + 2i \\end{bmatrix} $$.\n",
    "\n",
    "### Exercise 11: Transpose of a Complex Matrix\n",
    "Find the transpose of the complex matrix \n",
    "$$ m = \\begin{bmatrix} 1 - i & 2 + 2i \\\\ 3 & 4 - i \\end{bmatrix} $$.\n",
    "\n",
    "### Exercise 12: Adjunct (Conjugate Transpose) of a Complex Matrix\n",
    "Calculate the adjunct (or conjugate transpose) of the complex matrix \n",
    "$$ m = \\begin{bmatrix} 1 + 2i & 3 - i \\\\ 4 & 5 + i \\end{bmatrix} $$.\n",
    "\n",
    "### Exercise 13: Checking the Dimensions of a Matrix\n",
    "Determine the dimensions of the complex matrix \n",
    "$$ m = \\begin{bmatrix} 1 - i & 2 \\\\ 3 + 2i & 4 - i \\end{bmatrix} $$.\n",
    "\n",
    "## Multiplication of Matrices and Vectors\n",
    "\n",
    "### Exercise 14: Multiplying a Complex Square Matrix by a Complex Column Vector\n",
    "Multiply the complex square matrix \n",
    "$$ m = \\begin{bmatrix} 1 + i & 2 - i \\\\ 3 & 4 + i \\end{bmatrix} $$ \n",
    "by the complex column vector \n",
    "$$ v = \\begin{bmatrix} 2 - i \\\\ 1 + 3i \\end{bmatrix} $$.\n",
    "\n",
    "## Instructions\n",
    "For each exercise, ensure to display both the input (vectors/matrices) and the result of the operation.Use NumPy for these exercises to practice handling complex numbers and matrix operations in Python.\n"
   ]
  },
  {
   "cell_type": "code",
   "execution_count": 39,
   "id": "38daf55d-5efc-4617-a241-eb20d970cf1b",
   "metadata": {},
   "outputs": [],
   "source": [
    "## Complex Column Vector Operations\n"
   ]
  },
  {
   "cell_type": "code",
   "execution_count": 30,
   "id": "ba3bec6c-3734-4617-913e-2c46ede08eaf",
   "metadata": {},
   "outputs": [
    {
     "name": "stdout",
     "output_type": "stream",
     "text": [
      "Hacer la suma de los vectores\n",
      "Elvector uno es: \n",
      "[[1.+2.j]\n",
      " [3.-1.j]]\n",
      "Elvector dos es: \n",
      "[[2.-1.j]\n",
      " [4.+2.j]]\n",
      "La suma de los vectores da:\n",
      "[[3.+1.j]\n",
      " [7.+1.j]]\n"
     ]
    }
   ],
   "source": [
    "### Exercise 1: Sum of Two Complex Vectors\n",
    "\n",
    "print(\"Hacer la suma de los vectores\")\n",
    "import numpy as np\n",
    "v1 = np.array([[1+2j], [3-1j]])\n",
    "v2 = np.array([[2-1j], [4+2j]])\n",
    "print(\"Elvector uno es: \")\n",
    "print (v1)\n",
    "print(\"Elvector dos es: \")\n",
    "print (v2)\n",
    "sum_v = v1 + v2\n",
    "print (\"La suma de los vectores da:\" )\n",
    "print ( sum_v)"
   ]
  },
  {
   "cell_type": "code",
   "execution_count": 29,
   "id": "f005eb05-eea8-4cc0-9e11-67ca5c5d121f",
   "metadata": {},
   "outputs": [
    {
     "name": "stdout",
     "output_type": "stream",
     "text": [
      "Hacer la negacion de un vector\n",
      "Elvector es: \n",
      "[[2.+3.j]\n",
      " [2.+2.j]]\n",
      "La negacion del vector da:\n",
      "[[-2.-3.j]\n",
      " [-2.-2.j]]\n"
     ]
    }
   ],
   "source": [
    "### Exercise 2: Negation of a Complex Vector\n",
    "print(\"Hacer la negacion de un vector\")\n",
    "v = np.array([[2+3j], [2+2j]])\n",
    "print(\"Elvector es: \")\n",
    "print(v)\n",
    "neg_v = -v\n",
    "print (\"La negacion del vector da:\")\n",
    "print ( neg_v)"
   ]
  },
  {
   "cell_type": "code",
   "execution_count": 19,
   "id": "faff5c32-56d9-4fc7-b5bc-27c08f2c5a4e",
   "metadata": {},
   "outputs": [
    {
     "name": "stdout",
     "output_type": "stream",
     "text": [
      "Hacer la multiplicacion de un vector por un escalar\n",
      "Elvector es: \n",
      "[[1.-1.j]\n",
      " [1.-2.j]]\n",
      "El escalar es \n",
      "(3+1j)\n",
      "La multiplicacion de un vector por un escalar \n",
      "[[4.-2.j]\n",
      " [5.-5.j]]\n"
     ]
    }
   ],
   "source": [
    "### ### Exercise 3: Multiplication of a Complex Vector by a Scalar\n",
    "\n",
    "print(\"Hacer la multiplicacion de un vector por un escalar\")\n",
    "import numpy as np\n",
    "v = np.array([[1-1j], [1-2j]])\n",
    "print(\"Elvector es: \")\n",
    "print (v)\n",
    "print (\"El escalar es \")\n",
    "scalar = 3+1j\n",
    "print (scalar)\n",
    "mult_v = v * scalar\n",
    "print (\"La multiplicacion de un vector por un escalar da: \") \n",
    "print (mult_v)"
   ]
  },
  {
   "cell_type": "code",
   "execution_count": 25,
   "id": "55f9b547-3768-4454-b0ed-748d3d5e8483",
   "metadata": {},
   "outputs": [
    {
     "name": "stdout",
     "output_type": "stream",
     "text": [
      "Encontrar la transpuesta del vector complejo\n",
      "Elvector es: \n",
      "[[1.+2.j]\n",
      " [3.-1.j]]\n",
      "La transpuesta del vector complejo es:\n",
      "[[2.-1.j 3.+4.j]]\n"
     ]
    }
   ],
   "source": [
    "### Exercise 4: Transpose of a Complex Vector\n",
    "print (\"Encontrar la transpuesta del vector complejo\")\n",
    "v = np.array([[2-1j], [3+4j]])\n",
    "transpose_v = v.T\n",
    "print(\"Elvector es: \")\n",
    "print (v1)\n",
    "print (\"La transpuesta del vector complejo da:\" ) \n",
    "print (transpose_v)"
   ]
  },
  {
   "cell_type": "code",
   "execution_count": 26,
   "id": "e0add9fe-2762-4eb5-8c77-f1447dc3b5ed",
   "metadata": {},
   "outputs": [
    {
     "name": "stdout",
     "output_type": "stream",
     "text": [
      "Calcular el conjugado del vector complejo \n",
      "Elvector es: \n",
      "[[1.+1.j]\n",
      " [2.-3.j]]\n",
      "El conjugado del vector complejo es:\n",
      "[[1.-1.j]\n",
      " [2.+3.j]]\n"
     ]
    }
   ],
   "source": [
    "### Exercise 5: Conjugate of a Complex Vector\n",
    "print (\"Calcular el conjugado del vector complejo \")\n",
    "v = np.array([[1+1j], [2-3j]])\n",
    "print(\"Elvector es: \")\n",
    "print (v)\n",
    "conjugate_v = np.conjugate(v)\n",
    "print (\"El conjugado del vector complejo da:\" )\n",
    "print(conjugate_v)\n"
   ]
  },
  {
   "cell_type": "code",
   "execution_count": 28,
   "id": "343e7aca-5226-42a8-933e-1e78abd5572f",
   "metadata": {},
   "outputs": [
    {
     "name": "stdout",
     "output_type": "stream",
     "text": [
      "Encuentre la adjunta (o transpuesta conjugada) del vector complejo\n",
      "Elvector es: \n",
      "[[1.-2.j]\n",
      " [3.+1.j]]\n",
      "La adjunta es: \n",
      "[[1.+2.j 3.-1.j]]\n"
     ]
    }
   ],
   "source": [
    "### Exercise 6: Adjunct (Conjugate Transpose) of a Complex Vector\n",
    "print(\"Encuentre la adjunta (o transpuesta conjugada) del vector complejo\")\n",
    "v = np.array([[1-2j], [3+1j]])\n",
    "print(\"Elvector es: \")\n",
    "print(v)\n",
    "print (\"La adjunta da: \")\n",
    "adjunct_v = v.T.conj()\n",
    "print (adjunct_v)"
   ]
  },
  {
   "cell_type": "code",
   "execution_count": null,
   "id": "75de0b42-b00a-43dd-9131-cb83974e506f",
   "metadata": {},
   "outputs": [],
   "source": [
    "## Complex Square Matrix Operations"
   ]
  },
  {
   "cell_type": "code",
   "execution_count": 12,
   "id": "29e5c23b-4a31-403d-8751-5540a918d7d4",
   "metadata": {},
   "outputs": [
    {
     "name": "stdout",
     "output_type": "stream",
     "text": [
      "Given two complex matrices \n",
      "La matriz 1 es\n",
      "[[1.+1.j 2.-1.j]\n",
      " [3.+2.j 4.+0.j]]\n",
      "La matriz 2 es\n",
      "[[2.-3.j 1.+0.j]\n",
      " [0.+1.j 2.+2.j]]\n",
      "la suma es\n",
      "[[3.-2.j 3.-1.j]\n",
      " [3.+3.j 6.+2.j]]\n"
     ]
    }
   ],
   "source": [
    "### Exercise 7: Sum of Two Complex Matrices\n",
    "print (\"Hacer la suma de dos matrices\" )\n",
    "m1 = np.array([[1+1j, 2-1j], \n",
    "               [3+2j, 4]])\n",
    "m2 = np.array([[2-3j, 1], \n",
    "               [1j, 2+2j]])\n",
    "print (\"La matriz 1 es\")\n",
    "print(m1)\n",
    "print (\"La matriz 2 es\")\n",
    "print(m2)\n",
    "print(\"la suma da:\")\n",
    "sum_m = m1 + m2\n",
    "print(sum_m)"
   ]
  },
  {
   "cell_type": "code",
   "execution_count": 13,
   "id": "6beb2f12-2f9b-476e-895d-42a1148da891",
   "metadata": {},
   "outputs": [
    {
     "name": "stdout",
     "output_type": "stream",
     "text": [
      "Find the negation of the complex matrix\n",
      "La matriz es\n",
      "[[2.+2.j 3.+0.j]\n",
      " [1.-1.j 2.+2.j]]\n",
      "La negacion es\n",
      "[[-2.-2.j -3.-0.j]\n",
      " [-1.+1.j -2.-2.j]]\n"
     ]
    }
   ],
   "source": [
    "### Exercise 8: Negation of a Complex Matrix\n",
    "print(\"Encuentra la negación de la matriz compleja\")\n",
    "m1 = np.array([[2+2j, 3], \n",
    "               [1-1j, 2+2j]])\n",
    "print(\"La matriz es\")\n",
    "print (m1)\n",
    "print (\"La negacion da:\")\n",
    "neg_m1 = -m1\n",
    "print (neg_m1)"
   ]
  },
  {
   "cell_type": "code",
   "execution_count": 34,
   "id": "a3bec64a-ffdb-4884-97d3-b3f5c88cce67",
   "metadata": {},
   "outputs": [
    {
     "name": "stdout",
     "output_type": "stream",
     "text": [
      "Hacer la multiplicacion de una matriz por un escalar\n",
      "La matriz es: \n",
      "[[1.-1.j 2.+0.j]\n",
      " [3.-1.j 4.-2.j]]\n",
      "El escalar es \n",
      "(2+3j)\n",
      "La multiplicacion de una matriz por un escalar da: \n",
      "[[ 5.+1.j  4.+6.j]\n",
      " [ 9.+7.j 14.+8.j]]\n"
     ]
    }
   ],
   "source": [
    "### Exercise 9: Multiplication of a Complex Matrix by a Scalar\n",
    "print(\"Hacer la multiplicacion de una matriz por un escalar\")\n",
    "m1 = np.array([[1-1j, 2], \n",
    "               [3-1j, 4-2j]])\n",
    "print (\"La matriz es: \")\n",
    "print (m1)\n",
    "print (\"El escalar es \")\n",
    "scalar = 2+3j\n",
    "print (scalar)\n",
    "mult_m = m1 * scalar\n",
    "print (\"La multiplicacion de una matriz por un escalar da: \") \n",
    "print (mult_m)"
   ]
  },
  {
   "cell_type": "code",
   "execution_count": 35,
   "id": "608a0b5c-2ea2-4d06-b6c5-9344ceaa771b",
   "metadata": {},
   "outputs": [
    {
     "name": "stdout",
     "output_type": "stream",
     "text": [
      "Calcular el conjugado de la matriz compleja \n",
      "La matriz es: \n",
      "[[1.+1.j 2.+0.j]\n",
      " [3.-1.j 4.+2.j]]\n",
      "El conjugado del vector complejo da:\n",
      "[[1.-1.j 2.-0.j]\n",
      " [3.+1.j 4.-2.j]]\n"
     ]
    }
   ],
   "source": [
    "### Exercise 10: Conjugate of a Complex Matrix\n",
    "print (\"Calcular el conjugado de la matriz compleja \")\n",
    "m1 = np.array([[1+1j, 2], \n",
    "               [3-1j, 4+2j]])\n",
    "print(\"La matriz es: \")\n",
    "print (m1)\n",
    "conjugate_m1 = np.conjugate(m1)\n",
    "print (\"El conjugado del vector complejo da:\" )\n",
    "print(conjugate_m1)"
   ]
  },
  {
   "cell_type": "code",
   "execution_count": 36,
   "id": "a264b0d5-de4e-4e00-9814-a82fbb882f6d",
   "metadata": {},
   "outputs": [
    {
     "name": "stdout",
     "output_type": "stream",
     "text": [
      "Encontrar la transpuesta de la matriz compleja\n",
      "La matiz es: \n",
      "[[1.-1.j 2.+2.j]\n",
      " [3.+0.j 4.-1.j]]\n",
      "La transpuesta de la matriz compleja da:\n",
      "[[1.-1.j 3.+0.j]\n",
      " [2.+2.j 4.-1.j]]\n"
     ]
    }
   ],
   "source": [
    "### Exercise 11: Transpose of a Complex Matrix\n",
    "print (\"Encontrar la transpuesta de la matriz compleja\")\n",
    "m1 = np.array([[1-1j, 2+2j], \n",
    "               [3, 4-1j]])\n",
    "transpose_m1 = m1.T\n",
    "print(\"La matiz es: \")\n",
    "print (m1)\n",
    "print (\"La transpuesta de la matriz compleja da:\" ) \n",
    "print (transpose_m1)\n"
   ]
  },
  {
   "cell_type": "code",
   "execution_count": 37,
   "id": "28ef52fe-f815-4c1f-b50d-6a8bed4691c0",
   "metadata": {},
   "outputs": [
    {
     "name": "stdout",
     "output_type": "stream",
     "text": [
      "Encuentre la adjunta (o transpuesta conjugada) de la matriz compleja\n",
      "La matriz es es: \n",
      "[[1.+2.j 3.-1.j]\n",
      " [4.+0.j 5.+1.j]]\n",
      "La adjunta da: \n",
      "[[1.-2.j 4.-0.j]\n",
      " [3.+1.j 5.-1.j]]\n"
     ]
    }
   ],
   "source": [
    "### Exercise 12: Adjunct (Conjugate Transpose) of a Complex Matrix\n",
    "print(\"Encuentre la adjunta (o transpuesta conjugada) de la matriz compleja\")\n",
    "m1 = np.array([[1+2j, 3-1j], \n",
    "               [4, 5+1j]])\n",
    "print(\"La matriz es es: \")\n",
    "print(m1)\n",
    "print (\"La adjunta da: \")\n",
    "adjunct_m1 = m1.T.conj()\n",
    "print (adjunct_m1)"
   ]
  },
  {
   "cell_type": "code",
   "execution_count": 38,
   "id": "1da01ed5-3a95-4891-b79f-ffbd0c5a532b",
   "metadata": {},
   "outputs": [
    {
     "name": "stdout",
     "output_type": "stream",
     "text": [
      "Determinar las dimensiones de la matriz compleja\n",
      "La matriz es es: \n",
      "[[1.-1.j 2.+0.j]\n",
      " [3.+2.j 4.-1.j]]\n",
      "La dimension es: \n",
      "(2, 2)\n"
     ]
    }
   ],
   "source": [
    "### Exercise 13: Checking the Dimensions of a Matrix\n",
    "print (\"Determinar las dimensiones de la matriz compleja\")\n",
    "m1 = np.array([[1-1j, 2], \n",
    "               [3+2j, 4-1j]])\n",
    "print(\"La matriz es es: \")\n",
    "print(m1)\n",
    "print (\"La dimension es: \")\n",
    "dim = m1.shape\n",
    "print (dim)\n"
   ]
  },
  {
   "cell_type": "code",
   "execution_count": null,
   "id": "5442e328-dd4c-490e-9784-58bc6db39e74",
   "metadata": {},
   "outputs": [],
   "source": [
    "## Multiplication of Matrices and Vectors\n"
   ]
  },
  {
   "cell_type": "code",
   "execution_count": 40,
   "id": "66469ffa-b3ed-497b-8b6b-4353640bd693",
   "metadata": {},
   "outputs": [
    {
     "name": "stdout",
     "output_type": "stream",
     "text": [
      "Multiplicar la matriz cuadrada compleja\n",
      "La matriz es es: \n",
      "[[1.+1.j 2.-1.j]\n",
      " [3.+0.j 4.+1.j]]\n",
      "Elvector es: \n",
      "[[2.-1.j]\n",
      " [1.+3.j]]\n",
      "La multiplicacion da: \n",
      "[[8. +6.j]\n",
      " [7.+10.j]]\n"
     ]
    }
   ],
   "source": [
    "### Exercise 14: Multiplying a Complex Square Matrix by a Complex Column Vector\n",
    "print (\"Multiplicar la matriz cuadrada compleja\")\n",
    "m1 = np.array([[1+1j, 2-1j], \n",
    "               [3, 4+1j]])\n",
    "print(\"La matriz es es: \")\n",
    "print(m1)\n",
    "v = np.array([[2-1j], [1+3j]])\n",
    "print(\"Elvector es: \")\n",
    "print (v)\n",
    "print (\"La multiplicacion da: \")\n",
    "result = np.dot(m1, v)\n",
    "print (result)"
   ]
  },
  {
   "cell_type": "code",
   "execution_count": null,
   "id": "5230dedc-0dc7-4fde-9ab0-0d4a81986ed4",
   "metadata": {},
   "outputs": [],
   "source": []
  }
 ],
 "metadata": {
  "kernelspec": {
   "display_name": "Python 3 (ipykernel)",
   "language": "python",
   "name": "python3"
  },
  "language_info": {
   "codemirror_mode": {
    "name": "ipython",
    "version": 3
   },
   "file_extension": ".py",
   "mimetype": "text/x-python",
   "name": "python",
   "nbconvert_exporter": "python",
   "pygments_lexer": "ipython3",
   "version": "3.10.2"
  }
 },
 "nbformat": 4,
 "nbformat_minor": 5
}
